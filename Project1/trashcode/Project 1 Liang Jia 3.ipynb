{
 "cells": [
  {
   "cell_type": "code",
   "execution_count": 1,
   "metadata": {},
   "outputs": [],
   "source": [
    "import numpy as np\n",
    "from sklearn.preprocessing import PolynomialFeatures\n",
    "\n",
    "#Ordinary Least Squared function\n",
    "def ols(x, y, z, degree = 5):\n",
    "    #x: vector of size(n, 1)\n",
    "    #y: vector of size(n,1)\n",
    "    # z: vector of size(n,1)\n",
    "    xyb_ = np.c_[x, y]\n",
    "    poly = PolynomialFeatures(degree)\n",
    "    xyb = poly.fit_transform(xyb_)\n",
    "    beta = np.linalg.inv(xyb.T.dot(xyb)).dot(xyb.T).dot(z)\n",
    "\n",
    "    return beta"
   ]
  },
  {
   "cell_type": "code",
   "execution_count": 2,
   "metadata": {},
   "outputs": [],
   "source": [
    "from sklearn.preprocessing import PolynomialFeatures\n",
    "import matplotlib.pyplot as plt\n",
    "from mpl_toolkits.mplot3d import Axes3D\n",
    "from matplotlib import cm\n",
    "\n",
    "def FrankeFunction(x,y, noise=0.01):\n",
    "    term1 = 0.75*np.exp(-(0.25*(9*x-2)**2) - 0.25*((9*y-2)**2))\n",
    "    term2 = 0.75*np.exp(-((9*x+1)**2)/49.0 - 0.1*(9*y+1))\n",
    "    term3 = 0.5*np.exp(-(9*x-7)**2/4.0 - 0.25*((9*y-3)**2))\n",
    "    term4 = -0.2*np.exp(-(9*x-4)**2 - (9*y-7)**2)\n",
    "    return (term1 + term2 + term3 + term4 + noise*np.random.randn(len(x)))\n",
    "def R2(zReal, zPredicted):\n",
    "    \"\"\"\n",
    "    :param zReal: actual z-values, size (n, 1)\n",
    "    :param zPredicted: predicted z-values, size (n, 1)\n",
    "    :return: R2-score\n",
    "    \"\"\"\n",
    "    meanValue = np.mean(zReal)\n",
    "    numerator = np.sum((zReal - zPredicted)**2)\n",
    "    denominator = np.sum((zReal - meanValue)**2)\n",
    "    result = 1 - (numerator/denominator)\n",
    "    return result\n",
    "\n",
    "def MeanSquaredError(z, z_hat):\n",
    "    \"\"\"\n",
    "    :param z: actual z-values, size (n, 1)\n",
    "    :param z_hat: predicted z-values, size (n, 1)\n",
    "    :return: Mean squared error\n",
    "    \"\"\"\n",
    "    MSE = np.sum((z - z_hat)**2)/len(z)\n",
    "    return MSE"
   ]
  },
  {
   "cell_type": "code",
   "execution_count": 3,
   "metadata": {},
   "outputs": [],
   "source": [
    "import numpy as np\n",
    "# Load random data, 1000 points\n",
    "X = np.load('data.npy')\n"
   ]
  },
  {
   "cell_type": "code",
   "execution_count": 4,
   "metadata": {},
   "outputs": [
    {
     "data": {
      "text/plain": [
       "array([[0.02772629, 0.81403567],\n",
       "       [0.81681013, 0.69636746],\n",
       "       [0.89099811, 0.23927947],\n",
       "       ...,\n",
       "       [0.49410465, 0.21646033],\n",
       "       [0.92647892, 0.21151669],\n",
       "       [0.31642027, 0.10905259]])"
      ]
     },
     "execution_count": 4,
     "metadata": {},
     "output_type": "execute_result"
    }
   ],
   "source": [
    "X"
   ]
  },
  {
   "cell_type": "code",
   "execution_count": 5,
   "metadata": {},
   "outputs": [
    {
     "data": {
      "text/plain": [
       "(1000, 2)"
      ]
     },
     "execution_count": 5,
     "metadata": {},
     "output_type": "execute_result"
    }
   ],
   "source": [
    "X.shape"
   ]
  },
  {
   "cell_type": "code",
   "execution_count": 6,
   "metadata": {},
   "outputs": [],
   "source": [
    "#shufle dataset\n",
    "split_dataset = np.array_split(X,5)\n"
   ]
  },
  {
   "cell_type": "code",
   "execution_count": 7,
   "metadata": {},
   "outputs": [
    {
     "name": "stdout",
     "output_type": "stream",
     "text": [
      "200\n",
      "200\n",
      "200\n",
      "200\n",
      "200\n"
     ]
    }
   ],
   "source": [
    "for item in split_dataset:\n",
    "    print(len(item))"
   ]
  },
  {
   "cell_type": "code",
   "execution_count": null,
   "metadata": {},
   "outputs": [],
   "source": []
  },
  {
   "cell_type": "code",
   "execution_count": 12,
   "metadata": {},
   "outputs": [],
   "source": [
    "Z_predict = []\n",
    "MSEs = []\n",
    "R2Scores = []\n",
    "\n",
    "for i in range(5):\n",
    "    test = split_dataset[i]\n",
    "    train_index = [index for index in range(5) if index != i]\n",
    "    args = []\n",
    "    for index in train_index:\n",
    "        args.append(split_dataset[index])\n",
    "    train = np.concatenate(args)\n",
    "\n",
    "    #split x_train, x_test, y_train, y_test\n",
    "    x_train = train[:, 0]\n",
    "    y_train = train[:, 1]\n",
    "    x_test = test[:, 0]\n",
    "    y_test = test[:, 1]\n",
    "    \n",
    "    z_train = FrankeFunction(x_train, y_train)\n",
    "    z_test = FrankeFunction(x_test, y_test)\n",
    "    beta = []\n",
    "    beta = ols(x_train, y_train, z_train, degree=5)\n",
    "    \n",
    "    #fit model\n",
    "    M_ = np.c_[x_test, y_test]\n",
    "    poly = PolynomialFeatures(5)\n",
    "    M = poly.fit_transform(M_)\n",
    "    z_hat = M.dot(beta)  \n",
    "    \n",
    "    z_predict= M.dot(beta)\n",
    "    MSE = MeanSquaredError(z_test, z_predict)\n",
    "    R2score = R2(z_test, z_predict)\n",
    "    MSEs.append(MSE)\n",
    "    R2Scores.append(R2score)\n",
    "    Z_predict.append(z_hat)\n",
    "   \n",
    "    #print(np.mean(z_predict))\n",
    " \n",
    "  \n",
    "\n",
    "# Calculate MSE, Bias and Variance\n",
    "#print(Z_predict)\n",
    "MSE_M = np.mean(MSEs)\n",
    "R2_M = np.mean(R2Scores)\n",
    "variance = np.mean(np.var(Z_predict, axis=0, keepdims=True))\n",
    "bias = np.mean((z_test - np.mean(Z_predict, axis=0, keepdims=True))**2)\n"
   ]
  },
  {
   "cell_type": "code",
   "execution_count": 13,
   "metadata": {},
   "outputs": [
    {
     "data": {
      "text/plain": [
       "(0.002101857916780113,\n",
       " 0.9716233641002733,\n",
       " 0.05476816657627406,\n",
       " 0.05927167580686138)"
      ]
     },
     "execution_count": 13,
     "metadata": {},
     "output_type": "execute_result"
    }
   ],
   "source": [
    "MSE_M, R2_M, bias, variance"
   ]
  },
  {
   "cell_type": "code",
   "execution_count": 65,
   "metadata": {},
   "outputs": [
    {
     "name": "stdout",
     "output_type": "stream",
     "text": [
      "0\n",
      "1\n",
      "2\n",
      "3\n",
      "4\n"
     ]
    }
   ],
   "source": [
    "x = X[:, 0]\n",
    "y = X[:, 1]"
   ]
  },
  {
   "cell_type": "code",
   "execution_count": 52,
   "metadata": {},
   "outputs": [],
   "source": [
    "def k_fold(dataset, k):\n",
    "    # Shuffle dataset: \n",
    "    np.random.shuffle(dataset)\n",
    "    split_dataset = np.array_split(dataset,k)\n",
    "    Z_predict = []\n",
    "    MSEs = []\n",
    "    R2Scores = []\n",
    "    b = []\n",
    "\n",
    "    for i in range(k):\n",
    "        test = split_dataset[i]\n",
    "        train_index = [index for index in range(k) if index != i]\n",
    "        args = []\n",
    "        for index in train_index:\n",
    "            args.append(split_dataset[index])\n",
    "        train = np.concatenate(args)\n",
    "\n",
    "        #split x_train, x_test, y_train, y_test\n",
    "        x_train = train[:, 0]\n",
    "        y_train = train[:, 1]\n",
    "        x_test = test[:, 0]\n",
    "        y_test = test[:, 1]\n",
    "\n",
    "        z_train = FrankeFunction(x_train, y_train)\n",
    "        z_test = FrankeFunction(x_test, y_test)\n",
    "        beta = []\n",
    "        beta = ols(x_train, y_train, z_train, degree=5)\n",
    "\n",
    "        #fit model\n",
    "        M_ = np.c_[x_test, y_test]\n",
    "        poly = PolynomialFeatures(5)\n",
    "        M = poly.fit_transform(M_)\n",
    "        z_hat = M.dot(beta) \n",
    "\n",
    "        z_predict= M.dot(beta)\n",
    "        print(len(z_hat), len(z_predict))\n",
    "        MSE = MeanSquaredError(z_test, z_predict)\n",
    "        R2score = R2(z_test, z_predict)\n",
    "        MSEs.append(MSE)\n",
    "        R2Scores.append(R2score)\n",
    "        Z_predict.append(z_hat)\n",
    "\n",
    "        b.append(np.mean((z_test - np.mean(Z_predict, axis=0, keepdims=True))**2))\n",
    "\n",
    "\n",
    "\n",
    "    # Calculate MSE, Bias and Variance\n",
    "    #print(len(Z_predict))\n",
    "   # print(len(MSEs))\n",
    "   # print(len(R2Scores))\n",
    "    \n",
    "    MSE_M = np.mean(MSEs)\n",
    "    R2_M = np.mean(R2Scores)\n",
    "    variance = np.mean(np.var(Z_predict, axis=0, keepdims=True))\n",
    "    bias = np.mean(b)\n",
    "\n",
    "    return MSE_M, R2_M, variance, bias"
   ]
  },
  {
   "cell_type": "code",
   "execution_count": 55,
   "metadata": {},
   "outputs": [
    {
     "name": "stdout",
     "output_type": "stream",
     "text": [
      "200 200\n",
      "200 200\n",
      "200 200\n",
      "200 200\n",
      "200 200\n"
     ]
    },
    {
     "data": {
      "text/plain": [
       "(0.002398067315602358,\n",
       " 0.9673948226786822,\n",
       " 0.05772397109504631,\n",
       " 0.04068078957957387)"
      ]
     },
     "execution_count": 55,
     "metadata": {},
     "output_type": "execute_result"
    }
   ],
   "source": [
    "k_fold(X,5)"
   ]
  },
  {
   "cell_type": "code",
   "execution_count": 1,
   "metadata": {},
   "outputs": [
    {
     "data": {
      "image/png": "[encoded data removed]",
      "text/plain": [
       "<Figure size 432x288 with 1 Axes>"
      ]
     },
     "metadata": {
      "needs_background": "light"
     },
     "output_type": "display_data"
    }
   ],
   "source": [
    "import numpy as np\n",
    "import matplotlib.pyplot as plt\n",
    "from sklearn.model_selection import KFold\n",
    "from sklearn.linear_model import Ridge\n",
    "from sklearn.model_selection import cross_val_score\n",
    "from sklearn.preprocessing import PolynomialFeatures\n",
    "\n",
    "# A seed just to ensure that the random numbers are the same for every run.\n",
    "# Useful for eventual debugging.\n",
    "np.random.seed(3155)\n",
    "\n",
    "# Generate the data.\n",
    "X = np.load('data.npy')\n",
    "x = X[:, 0]\n",
    "y = X[:, 1]\n",
    "\n",
    "## Cross-validation on Ridge regression using KFold only\n",
    "\n",
    "# Decide degree on polynomial to fit\n",
    "poly = PolynomialFeatures(degree = 6)\n",
    "\n",
    "# Decide which values of lambda to use\n",
    "nlambdas = 500\n",
    "lambdas = np.logspace(-3, 5, nlambdas)\n",
    "\n",
    "# Initialize a KFold instance\n",
    "k = 5\n",
    "kfold = KFold(n_splits = k)\n",
    "\n",
    "# Perform the cross-validation to estimate MSE\n",
    "scores_KFold = np.zeros((nlambdas, k))\n",
    "variance = np.zeros((nlambdas, k))\n",
    "\n",
    "i = 0\n",
    "for lmb in lambdas:\n",
    "    ridge = Ridge(alpha = lmb)\n",
    "    j = 0\n",
    "    for train_inds, test_inds in kfold.split(x):\n",
    "        xtrain = x[train_inds]\n",
    "        ytrain = y[train_inds]\n",
    "\n",
    "        xtest = x[test_inds]\n",
    "        ytest = y[test_inds]\n",
    "\n",
    "        Xtrain = poly.fit_transform(xtrain[:, np.newaxis])\n",
    "        ridge.fit(Xtrain, ytrain[:, np.newaxis])\n",
    "\n",
    "        Xtest = poly.fit_transform(xtest[:, np.newaxis])\n",
    "        ypred = ridge.predict(Xtest)\n",
    "\n",
    "        scores_KFold[i,j] = np.sum((ypred - ytest[:, np.newaxis])**2)/np.size(ypred)\n",
    "\n",
    "        j += 1\n",
    "    i += 1\n",
    "\n",
    "\n",
    "estimated_mse_KFold = np.mean(scores_KFold, axis = 1)\n",
    "\n",
    "## Cross-validation using cross_val_score from sklearn along with KFold\n",
    "\n",
    "# kfold is an instance initialized above as:\n",
    "# kfold = KFold(n_splits = k)\n",
    "\n",
    "estimated_mse_sklearn = np.zeros(nlambdas)\n",
    "i = 0\n",
    "for lmb in lambdas:\n",
    "    ridge = Ridge(alpha = lmb)\n",
    "\n",
    "    X = poly.fit_transform(x[:, np.newaxis])\n",
    "    estimated_mse_folds = cross_val_score(ridge, X, y[:, np.newaxis], scoring='neg_mean_squared_error', cv=kfold)\n",
    "\n",
    "    # cross_val_score return an array containing the estimated negative mse for every fold.\n",
    "    # we have to the the mean of every array in order to get an estimate of the mse of the model\n",
    "    estimated_mse_sklearn[i] = np.mean(-estimated_mse_folds)\n",
    "\n",
    "    i += 1\n",
    "\n",
    "## Plot and compare the slightly different ways to perform cross-validation\n",
    "\n",
    "plt.figure()\n",
    "\n",
    "plt.plot(np.log10(lambdas), estimated_mse_sklearn, label = 'cross_val_score')\n",
    "plt.plot(np.log10(lambdas), estimated_mse_KFold, 'r--', label = 'KFold')\n",
    "\n",
    "plt.xlabel('log10(lambda)')\n",
    "plt.ylabel('mse')\n",
    "\n",
    "plt.legend()\n",
    "\n",
    "plt.show()"
   ]
  },
  {
   "cell_type": "code",
   "execution_count": 2,
   "metadata": {},
   "outputs": [],
   "source": [
    "from sklearn.model_selection import KFold\n",
    "def k_fold_sk(dataset, k):\n",
    "    # Shuffle dataset: \n",
    "    #np.random.shuffle(dataset)\n",
    "    split_dataset = KFold(dataset,k)\n",
    "    Z_predict = []\n",
    "    MSEs = []\n",
    "    R2Scores = []\n",
    "    b = []\n",
    "    \n",
    "\n",
    "    for i in range(k):\n",
    "        test = split_dataset[i]\n",
    "        train_index = [index for index in range(k) if index != i]\n",
    "        args = []\n",
    "        for index in train_index:\n",
    "            args.append(split_dataset[index])\n",
    "        train = np.concatenate(args)\n",
    "\n",
    "        #split x_train, x_test, y_train, y_test\n",
    "        x_train = train[:, 0]\n",
    "        y_train = train[:, 1]\n",
    "        x_test = test[:, 0]\n",
    "        y_test = test[:, 1]\n",
    "\n",
    "        z_train = FrankeFunction(x_train, y_train)\n",
    "        z_test = FrankeFunction(x_test, y_test)\n",
    "        beta = []\n",
    "        beta = ols(x_train, y_train, z_train, degree=5)\n",
    "\n",
    "        #fit model\n",
    "        M_ = np.c_[x_test, y_test]\n",
    "        poly = PolynomialFeatures(5)\n",
    "        M = poly.fit_transform(M_)\n",
    "        z_hat = M.dot(beta) \n",
    "\n",
    "        z_predict= M.dot(beta)\n",
    "        print(len(z_hat), len(z_predict))\n",
    "        MSE = MeanSquaredError(z_test, z_predict)\n",
    "        R2score = R2(z_test, z_predict)\n",
    "        MSEs.append(MSE)\n",
    "        R2Scores.append(R2score)\n",
    "        Z_predict.append(z_hat)\n",
    "\n",
    "        b.append(np.mean((z_test - np.mean(Z_predict, axis=0, keepdims=True))**2))\n",
    "\n",
    "\n",
    "\n",
    "    # Calculate MSE, Bias and Variance\n",
    "    #print(len(Z_predict))\n",
    "   # print(len(MSEs))\n",
    "   # print(len(R2Scores))\n",
    "    \n",
    "    MSE_M = np.mean(MSEs)\n",
    "    R2_M = np.mean(R2Scores)\n",
    "    variance = np.mean(np.var(Z_predict, axis=0, keepdims=True))\n",
    "    bias = np.mean(b)\n",
    "\n",
    "    return MSE_M, R2_M, variance, bias"
   ]
  },
  {
   "cell_type": "code",
   "execution_count": null,
   "metadata": {},
   "outputs": [],
   "source": [
    "import numpy as np\n",
    "import matplotlib.pyplot as plt\n",
    "from sklearn.model_selection import KFold\n",
    "from sklearn.linear_model import Ridge\n",
    "from sklearn.model_selection import cross_val_score\n",
    "from sklearn.preprocessing import PolynomialFeatures\n",
    "\n",
    "# A seed just to ensure that the random numbers are the same for every run.\n",
    "# Useful for eventual debugging.\n",
    "np.random.seed(3155)\n",
    "\n",
    "# Generate the data.\n",
    "nsamples = 100\n",
    "x = np.random.randn(nsamples)\n",
    "y = 3*x**2 + np.random.randn(nsamples)\n",
    "\n",
    "## Cross-validation on Ridge regression using KFold only\n",
    "\n",
    "# Decide degree on polynomial to fit\n",
    "poly = PolynomialFeatures(degree = 6)\n",
    "\n",
    "# Decide which values of lambda to use\n",
    "nlambdas = 500\n",
    "lambdas = np.logspace(-3, 5, nlambdas)\n",
    "\n",
    "# Initialize a KFold instance\n",
    "k = 5\n",
    "kfold = KFold(n_splits = k)\n",
    "\n",
    "# Perform the cross-validation to estimate MSE\n",
    "scores_KFold = np.zeros((nlambdas, k))\n",
    "\n",
    "i = 0\n",
    "for lmb in lambdas:\n",
    "    ridge = Ridge(alpha = lmb)\n",
    "    j = 0\n",
    "    for train_inds, test_inds in kfold.split(x):\n",
    "        xtrain = x[train_inds]\n",
    "        ytrain = y[train_inds]\n",
    "\n",
    "        xtest = x[test_inds]\n",
    "        ytest = y[test_inds]\n",
    "\n",
    "        Xtrain = poly.fit_transform(xtrain[:, np.newaxis])\n",
    "        ridge.fit(Xtrain, ytrain[:, np.newaxis])\n",
    "\n",
    "        Xtest = poly.fit_transform(xtest[:, np.newaxis])\n",
    "        ypred = ridge.predict(Xtest)\n",
    "\n",
    "        scores_KFold[i,j] = np.sum((ypred - ytest[:, np.newaxis])**2)/np.size(ypred)\n",
    "\n",
    "        j += 1\n",
    "    i += 1\n",
    "\n",
    "\n",
    "estimated_mse_KFold = np.mean(scores_KFold, axis = 1)\n",
    "\n",
    "## Cross-validation using cross_val_score from sklearn along with KFold\n",
    "\n",
    "# kfold is an instance initialized above as:\n",
    "# kfold = KFold(n_splits = k)\n",
    "\n",
    "estimated_mse_sklearn = np.zeros(nlambdas)\n",
    "i = 0\n",
    "for lmb in lambdas:\n",
    "    ridge = Ridge(alpha = lmb)\n",
    "\n",
    "    X = poly.fit_transform(x[:, np.newaxis])\n",
    "    estimated_mse_folds = cross_val_score(ridge, X, y[:, np.newaxis], scoring='neg_mean_squared_error', cv=kfold)\n",
    "\n",
    "    # cross_val_score return an array containing the estimated negative mse for every fold.\n",
    "    # we have to the the mean of every array in order to get an estimate of the mse of the model\n",
    "    estimated_mse_sklearn[i] = np.mean(-estimated_mse_folds)\n",
    "\n",
    "    i += 1\n",
    "\n",
    "## Plot and compare the slightly different ways to perform cross-validation\n",
    "\n",
    "plt.figure()\n",
    "\n",
    "plt.plot(np.log10(lambdas), estimated_mse_sklearn, label = 'cross_val_score')\n",
    "plt.plot(np.log10(lambdas), estimated_mse_KFold, 'r--', label = 'KFold')\n",
    "\n",
    "plt.xlabel('log10(lambda)')\n",
    "plt.ylabel('mse')\n",
    "\n",
    "plt.legend()\n",
    "\n",
    "plt.show()"
   ]
  },
  {
   "cell_type": "code",
   "execution_count": 16,
   "metadata": {},
   "outputs": [
    {
     "data": {
      "text/plain": [
       "[(3, 4, 5), (1, 2, 3)]"
      ]
     },
     "execution_count": 16,
     "metadata": {},
     "output_type": "execute_result"
    }
   ],
   "source": [
    "z = FrankeFunction(x, y, noise=n)\n",
    "        beta = []\n",
    "        beta = ols(x, y, z, degree=d)\n",
    "\n",
    "        # Generate new test data\n",
    "        x_test = np.random.rand(200)\n",
    "        y_test = np.random.rand(200)\n",
    "        z_test = FrankeFunction(x_test, y_test, noise=n)\n",
    "\n",
    "        #fit model\n",
    "        M_ = np.c_[x_test, y_test]\n",
    "        poly = PolynomialFeatures(d)\n",
    "        M = poly.fit_transform(M_)\n",
    "\n",
    "        z_predict= M.dot(beta)\n",
    "        MSE = MeanSquaredError(z_test, z_predict)\n",
    "        R2score = R2(z_test, z_predict)\n",
    "        MSEs.append(MSE)\n",
    "        R2Scores.append(R2score)"
   ]
  },
  {
   "cell_type": "code",
   "execution_count": 136,
   "metadata": {},
   "outputs": [
    {
     "name": "stdout",
     "output_type": "stream",
     "text": [
      "Runtime: 0.277511 sec\n",
      "Jackknife Statistics :\n",
      "original           bias      std. error\n",
      "  100.08         100.07        0.148322\n"
     ]
    }
   ],
   "source": [
    "from numpy import *\n",
    "from numpy.random import randint, randn\n",
    "from time import time\n",
    "\n",
    "def jackknife(data, stat):\n",
    "    n = len(data);t = zeros(n); inds = arange(n); t0 = time()\n",
    "    ## 'jackknifing' by leaving out an observation for each i                                                                                                                      \n",
    "    for i in range(n):\n",
    "        t[i] = stat(delete(data,i) )\n",
    "\n",
    "    # analysis                                                                                                                                                                     \n",
    "    print(\"Runtime: %g sec\" % (time()-t0)); print(\"Jackknife Statistics :\")\n",
    "    print(\"original           bias      std. error\")\n",
    "    print(\"%8g %14g %15g\" % (stat(data),(n-1)*mean(t)/n, (n*var(t))**.5))\n",
    "\n",
    "    return t\n",
    "\n",
    "\n",
    "# Returns mean of data samples                                                                                                                                                     \n",
    "def stat(data):\n",
    "    return mean(data)\n",
    "\n",
    "\n",
    "mu, sigma = 100, 15\n",
    "datapoints = 10000\n",
    "x = mu + sigma*random.randn(datapoints)\n",
    "# jackknife returns the data sample                                                                                                                                                \n",
    "t = jackknife(x, stat)"
   ]
  },
  {
   "cell_type": "code",
   "execution_count": 139,
   "metadata": {},
   "outputs": [
    {
     "name": "stdout",
     "output_type": "stream",
     "text": [
      "Error: 0.013121573975499602\n",
      "Bias^2: 0.012073649439965807\n",
      "Var: 0.0010479245355337968\n",
      "0.013121573975499602 >= 0.012073649439965807 + 0.0010479245355337968 = 0.013121573975499604\n"
     ]
    },
    {
     "data": {
      "image/png": "[encoded data removed]",
      "text/plain": [
       "<Figure size 432x288 with 1 Axes>"
      ]
     },
     "metadata": {
      "needs_background": "light"
     },
     "output_type": "display_data"
    }
   ],
   "source": [
    "import matplotlib.pyplot as plt\n",
    "import numpy as np\n",
    "from sklearn.linear_model import LinearRegression, Ridge, Lasso\n",
    "from sklearn.preprocessing import PolynomialFeatures\n",
    "from sklearn.model_selection import train_test_split\n",
    "from sklearn.pipeline import make_pipeline\n",
    "from sklearn.utils import resample\n",
    "\n",
    "np.random.seed(2018)\n",
    "\n",
    "n = 500\n",
    "n_boostraps = 100\n",
    "degree = 18  # A quite high value, just to show.\n",
    "noise = 0.1\n",
    "\n",
    "# Make data set.\n",
    "x = np.linspace(-1, 3, n).reshape(-1, 1)\n",
    "y = np.exp(-x**2) + 1.5 * np.exp(-(x-2)**2) + np.random.normal(0, 0.1, x.shape)\n",
    "\n",
    "# Hold out some test data that is never used in training.\n",
    "x_train, x_test, y_train, y_test = train_test_split(x, y, test_size=0.2)\n",
    "\n",
    "# Combine x transformation and model into one operation.\n",
    "# Not neccesary, but convenient.\n",
    "model = make_pipeline(PolynomialFeatures(degree=degree), LinearRegression(fit_intercept=False))\n",
    "\n",
    "# The following (m x n_bootstraps) matrix holds the column vectors y_pred\n",
    "# for each bootstrap iteration.\n",
    "y_pred = np.empty((y_test.shape[0], n_boostraps))\n",
    "for i in range(n_boostraps):\n",
    "    x_, y_ = resample(x_train, y_train)\n",
    "\n",
    "    # Evaluate the new model on the same test data each time.\n",
    "    y_pred[:, i] = model.fit(x_, y_).predict(x_test).ravel()\n",
    "\n",
    "# Note: Expectations and variances taken w.r.t. different training\n",
    "# data sets, hence the axis=1. Subsequent means are taken across the test data\n",
    "# set in order to obtain a total value, but before this we have error/bias/variance\n",
    "# calculated per data point in the test set.\n",
    "# Note 2: The use of keepdims=True is important in the calculation of bias as this \n",
    "# maintains the column vector form. Dropping this yields very unexpected results.\n",
    "error = np.mean( np.mean((y_test - y_pred)**2, axis=1, keepdims=True) )\n",
    "bias = np.mean( (y_test - np.mean(y_pred, axis=1, keepdims=True))**2 )\n",
    "variance = np.mean( np.var(y_pred, axis=1, keepdims=True) )\n",
    "print('Error:', error)\n",
    "print('Bias^2:', bias)\n",
    "print('Var:', variance)\n",
    "print('{} >= {} + {} = {}'.format(error, bias, variance, bias+variance))\n",
    "\n",
    "plt.plot(x[::5, :], y[::5, :], label='f(x)')\n",
    "plt.scatter(x_test, y_test, label='Data points')\n",
    "plt.scatter(x_test, np.mean(y_pred, axis=1), label='Pred')\n",
    "plt.legend()\n",
    "plt.show()"
   ]
  },
  {
   "cell_type": "code",
   "execution_count": null,
   "metadata": {},
   "outputs": [],
   "source": []
  }
 ],
 "metadata": {
  "kernelspec": {
   "display_name": "Python 3",
   "language": "python",
   "name": "python3"
  },
  "language_info": {
   "codemirror_mode": {
    "name": "ipython",
    "version": 3
   },
   "file_extension": ".py",
   "mimetype": "text/x-python",
   "name": "python",
   "nbconvert_exporter": "python",
   "pygments_lexer": "ipython3",
   "version": "3.7.6"
  }
 },
 "nbformat": 4,
 "nbformat_minor": 4
}
